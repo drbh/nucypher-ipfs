{
  "cells": [
    {
      "cell_type": "code",
      "source": [
        "import os\n",
        "os.chdir(\"/Users/drbh2/Desktop/nucypher-ipfs\")\n",
        "\n",
        "import base64\n",
        "from ncipfs import main\n",
        "\n",
        "client = main.ncipfs()\n",
        "client.connect(nucypher_network=\"localhost:11500\",\n",
        "          ipfs_api_gateway=\"https://ipfs.infura.io:5001\")\n",
        "\n",
        "client.load_user(\"alice_ipfs_user/\")\n",
        "my_label = b'ncipfs_is_awesome.txt'\n",
        "my_contents = \"arbitrary data that is stored on IPFS\"\n",
        "pubkey = client.make_key_from_label(my_label)\n",
        "cid = client.add_contents(pubkey, my_contents)\n",
        "\n",
        "# DEMO PUB KEYS FOR BOB\n",
        "pubs = {\n",
        "    'enc_pubkey': b'A1r7sYpgXLka/PiRgmzZ6cKpzquqAAkxgJRqOkhgx8sJ',\n",
        "    'sig_pubkey': b'AsKuKFMvVbhPXY73uqowmBzkx1/k+V7jDWtszdVIfjUE'\n",
        "}"
      ],
      "outputs": [
        {
          "output_type": "stream",
          "name": "stdout",
          "text": [
            "Automatic Mode A Public Gateway will be used as a fallback\n",
            "The policy public key for label 'ncipfs_is_awesome.txt' is 031b88c8a5d0942dcb7871e6222b086a26e89cd57a73593878d6cba05fb560d4f3\n",
            "🚀 ADDING TO IPFS D-STORAGE NETWORK 🚀\n",
            "File Address:\tQmZVMX9QYDur9TqsPEgXD7KjznukRHEMJR2k5dSbESo56L\n"
          ]
        }
      ],
      "execution_count": 1,
      "metadata": {
        "collapsed": false,
        "outputHidden": false,
        "inputHidden": false
      }
    },
    {
      "cell_type": "code",
      "source": [
        "label =my_label\n",
        "m, n = 2, 3\n",
        "policy = client.create_access_policy(\n",
        "    enc_pubkey=base64.b64decode(pubs[\"enc_pubkey\"]), \n",
        "    sig_pubkey=base64.b64decode(pubs[\"sig_pubkey\"]), \n",
        "    label=label, \n",
        "    m=m, \n",
        "    n=n   \n",
        ")\n",
        "print(policy)"
      ],
      "outputs": [
        {
          "output_type": "stream",
          "name": "stdout",
          "text": [
            "Creating access policy for the Doctor...\n",
            "{'policy_pubkey': '031b88c8a5d0942dcb7871e6222b086a26e89cd57a73593878d6cba05fb560d4f3', 'alice_sig_pubkey': '0219af3cb96b8bcc2ede54488fe2a91e377d465531bfebe9797d0a0c4645db0eb3', 'label': 'ncipfs_is_awesome.txt'}\n"
          ]
        }
      ],
      "execution_count": 2,
      "metadata": {
        "collapsed": false,
        "outputHidden": false,
        "inputHidden": false
      }
    },
    {
      "cell_type": "code",
      "source": [
        "def convert_to_encoded(bs):\n",
        "    return base64.b64encode(bytes.fromhex(bs))\n",
        "\n",
        "to_send = [\n",
        "    cid,\n",
        "    convert_to_encoded(policy[\"policy_pubkey\"]),\n",
        "    convert_to_encoded(policy[\"alice_sig_pubkey\"]),\n",
        "    policy[\"label\"],\n",
        "]\n",
        "\nprint(to_send)"
      ],
      "outputs": [
        {
          "output_type": "stream",
          "name": "stdout",
          "text": [
            "['QmZVMX9QYDur9TqsPEgXD7KjznukRHEMJR2k5dSbESo56L', b'AxuIyKXQlC3LeHHmIisIaibonNV6c1k4eNbLoF+1YNTz', b'AhmvPLlri8wu3lRIj+KpHjd9RlUxv+vpeX0KDEZF2w6z', 'ncipfs_is_awesome.txt']\n"
          ]
        }
      ],
      "execution_count": 3,
      "metadata": {
        "collapsed": false,
        "outputHidden": false,
        "inputHidden": false
      }
    },
    {
      "cell_type": "code",
      "source": [],
      "outputs": [],
      "execution_count": 4,
      "metadata": {
        "collapsed": false,
        "outputHidden": false,
        "inputHidden": false
      }
    }
  ],
  "metadata": {
    "kernel_info": {
      "name": "python3"
    },
    "language_info": {
      "name": "python",
      "version": "3.7.2",
      "mimetype": "text/x-python",
      "codemirror_mode": {
        "name": "ipython",
        "version": 3
      },
      "pygments_lexer": "ipython3",
      "nbconvert_exporter": "python",
      "file_extension": ".py"
    },
    "kernelspec": {
      "name": "python3",
      "language": "python",
      "display_name": "Python 3"
    },
    "nteract": {
      "version": "0.12.3"
    }
  },
  "nbformat": 4,
  "nbformat_minor": 4
}