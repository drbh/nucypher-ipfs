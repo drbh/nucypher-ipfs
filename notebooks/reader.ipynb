{
  "cells": [
    {
      "cell_type": "code",
      "source": [
        "import os\n",
        "os.chdir(\"/Users/drbh2/Desktop/nucypher-ipfs\")"
      ],
      "outputs": [],
      "execution_count": 1,
      "metadata": {
        "collapsed": false,
        "outputHidden": false,
        "inputHidden": false
      }
    },
    {
      "cell_type": "code",
      "source": [
        "from ncipfs import main\n",
        "from umbral.keys import UmbralPrivateKey, UmbralPublicKey\n",
        "import base64\n",
        "\n",
        "client = main.ncipfs()\n",
        "client.connect(nucypher_network=\"localhost:11500\",\n",
        "          ipfs_api_gateway=\"https://ipfs.infura.io:5001\")"
      ],
      "outputs": [
        {
          "output_type": "stream",
          "name": "stdout",
          "text": [
            "Automatic Mode A Public Gateway will be used as a fallback\n"
          ]
        },
        {
          "output_type": "execute_result",
          "execution_count": 2,
          "data": {
            "text/plain": [
              "True"
            ]
          },
          "metadata": {}
        }
      ],
      "execution_count": 2,
      "metadata": {
        "collapsed": false,
        "outputHidden": false,
        "inputHidden": false
      }
    },
    {
      "cell_type": "code",
      "source": [
        "# DEMO PRIV KEYS FOR BOB\n",
        "priv = {\n",
        "\t'enc_privkey': b'aasQiCiv2uzFMVEvADPdMgB7oVbbkxtivxNk4+MCHLQ=',\n",
        "\t'sig_privkey': b'N/jL9tJKffa2ZGHy7WFZ+xKy9bfTXobuoxo47ZqEpVI='\n",
        "}\n",
        "\n",
        "input_data = [\n",
        "    'QmZVMX9QYDur9TqsPEgXD7KjznukRHEMJR2k5dSbESo56L', \n",
        "    b'AxuIyKXQlC3LeHHmIisIaibonNV6c1k4eNbLoF+1YNTz', \n",
        "    b'AhmvPLlri8wu3lRIj+KpHjd9RlUxv+vpeX0KDEZF2w6z', \n",
        "    'ncipfs_is_awesome.txt'\n",
        "]\n",
        "\n",
        "doctor = client.load_recipent(\n",
        "    UmbralPrivateKey.from_bytes(base64.b64decode(priv[\"enc_privkey\"])),\n",
        "    UmbralPrivateKey.from_bytes(base64.b64decode(priv[\"sig_privkey\"]))\n",
        ")"
      ],
      "outputs": [],
      "execution_count": 3,
      "metadata": {
        "collapsed": false,
        "outputHidden": false,
        "inputHidden": false
      }
    },
    {
      "cell_type": "code",
      "source": [
        "def convert_to_decoded(b64):\n",
        "    return base64.b64decode(b64)\n",
        "\n",
        "cid = input_data[0]\n",
        "policy = {\n",
        "    \"policy_pubkey\": convert_to_decoded(input_data[1]).hex(),\n",
        "    \"alice_sig_pubkey\": convert_to_decoded(input_data[2]).hex(),\n",
        "    \"label\": input_data[3]\n",
        "}"
      ],
      "outputs": [],
      "execution_count": 4,
      "metadata": {
        "collapsed": false,
        "outputHidden": false,
        "inputHidden": false
      }
    },
    {
      "cell_type": "code",
      "source": [
        "message = client.get_file_and_decrypt(doctor, policy, cid)\n",
        "print(message)"
      ],
      "outputs": [
        {
          "output_type": "stream",
          "name": "stdout",
          "text": [
            "The Doctor joins policy for label 'ncipfs_is_awesome.txt'\n",
            "arbitrary data that is stored on IPFS   Retrieval time:    85.02 ms\n"
          ]
        }
      ],
      "execution_count": 5,
      "metadata": {
        "collapsed": false,
        "outputHidden": false,
        "inputHidden": false
      }
    },
    {
      "cell_type": "code",
      "source": [],
      "outputs": [],
      "execution_count": 6,
      "metadata": {
        "collapsed": false,
        "outputHidden": false,
        "inputHidden": false
      }
    }
  ],
  "metadata": {
    "kernel_info": {
      "name": "python3"
    },
    "language_info": {
      "name": "python",
      "version": "3.7.2",
      "mimetype": "text/x-python",
      "codemirror_mode": {
        "name": "ipython",
        "version": 3
      },
      "pygments_lexer": "ipython3",
      "nbconvert_exporter": "python",
      "file_extension": ".py"
    },
    "kernelspec": {
      "name": "python3",
      "language": "python",
      "display_name": "Python 3"
    },
    "nteract": {
      "version": "0.12.3"
    }
  },
  "nbformat": 4,
  "nbformat_minor": 4
}