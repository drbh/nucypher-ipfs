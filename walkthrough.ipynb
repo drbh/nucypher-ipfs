{
  "cells": [
    {
      "cell_type": "markdown",
      "source": [
        "# Basic Interface\n",
        "\nFirst we chnage to our dev directory so we can use the python class"
      ],
      "metadata": {}
    },
    {
      "cell_type": "code",
      "source": [
        "import os\n",
        "os.chdir(\"/Users/drbh2/Desktop/nucypher-ipfs\")"
      ],
      "outputs": [],
      "execution_count": 1,
      "metadata": {
        "collapsed": false,
        "outputHidden": false,
        "inputHidden": false
      }
    },
    {
      "cell_type": "markdown",
      "source": [
        "now we load in the **ncipfs** class and instantiate a client"
      ],
      "metadata": {}
    },
    {
      "cell_type": "code",
      "source": [
        "from ncipfs import main\n",
        "\nclient = main.ncipfs()"
      ],
      "outputs": [],
      "execution_count": 14,
      "metadata": {
        "collapsed": false,
        "outputHidden": false,
        "inputHidden": false
      }
    },
    {
      "cell_type": "markdown",
      "source": [
        "now we pass the endpoints for IPFS and the Ursula network - here we connect to a local federated network, and infuras IPFS public gateway\n",
        "\nWe also load in an exisiting identity (or save a new one to the directory we specify. We'll just add this dir to our current location)"
      ],
      "metadata": {}
    },
    {
      "cell_type": "code",
      "source": [
        "client.connect(nucypher_network=\"localhost:11500\",\n",
        "          ipfs_api_gateway=\"https://ipfs.infura.io:5001\")\n",
        "\nclient.load_user(\"alice_ipfs_user/\")"
      ],
      "outputs": [
        {
          "output_type": "stream",
          "name": "stdout",
          "text": [
            "Automatic Mode A Public Gateway will be used as a fallback\n"
          ]
        },
        {
          "output_type": "execute_result",
          "execution_count": 16,
          "data": {
            "text/plain": [
              "(Alice)⇀LightPink Thunderstorm Gray Sagittarius↽ (0x7060DB53dF834CD58a74138C817c4eebb0eA4963)"
            ]
          },
          "metadata": {}
        }
      ],
      "execution_count": 16,
      "metadata": {
        "collapsed": false,
        "outputHidden": false,
        "inputHidden": false
      }
    },
    {
      "cell_type": "markdown",
      "source": [
        "# Securely Adding Data to IPFS\n",
        "\nNext we specify the name of the file we want to add to IPFS and its string contents. This label helps the Ursula network re-encrypt the data correctly but will not be the loaction of the file on IPFS. This will be a hash that starts with `Qm`...  Later work will help map these values together"
      ],
      "metadata": {}
    },
    {
      "cell_type": "code",
      "source": [
        "my_label = b'ncipfs_is_awesome.txt'\n",
        "my_contents = \"arbitrary data that is stored on IPFS\""
      ],
      "outputs": [],
      "execution_count": 20,
      "metadata": {
        "collapsed": false,
        "outputHidden": false,
        "inputHidden": false
      }
    },
    {
      "cell_type": "code",
      "source": [
        "pubkey = client.make_key_from_label(my_label)\n",
        "cid = client.add_contents(pubkey, my_contents)"
      ],
      "outputs": [
        {
          "output_type": "stream",
          "name": "stdout",
          "text": [
            "The policy public key for label 'ncipfs_is_awesome.txt' is 029412cf5595e3b7662204e2ebe036b74776dafd43edc883e401518b5d356506b8\n",
            "🚀 ADDING TO IPFS D-STORAGE NETWORK 🚀\n",
            "File Address:\tQmV6SmRwYkStx1sUUia2upUkoCw83zGb98MHz6WnbD3jwV\n"
          ]
        }
      ],
      "execution_count": 21,
      "metadata": {
        "collapsed": false,
        "outputHidden": false,
        "inputHidden": false
      }
    },
    {
      "cell_type": "markdown",
      "source": [
        "Yay! we now have our encrypted data stored in IPFS at located at the CID above."
      ],
      "metadata": {}
    },
    {
      "cell_type": "markdown",
      "source": [
        "# Permissioning Access to Data\n",
        "\n",
        "In this demo we will create the private and public keys for the recipent, but these will likely be stored values in the future.\n",
        "\nWe only need the public values to "
      ],
      "metadata": {}
    },
    {
      "cell_type": "code",
      "source": [
        "from umbral.keys import UmbralPrivateKey, UmbralPublicKey\n",
        "\n",
        "enc_privkey = UmbralPrivateKey.gen_key()\n",
        "sig_privkey = UmbralPrivateKey.gen_key()\n",
        "\n",
        "enc_pubkey = enc_privkey.get_pubkey()\n",
        "sig_pubkey = sig_privkey.get_pubkey()"
      ],
      "outputs": [],
      "execution_count": 6,
      "metadata": {
        "collapsed": false,
        "outputHidden": false,
        "inputHidden": false
      }
    },
    {
      "cell_type": "markdown",
      "source": [
        "no we need to specify the label of the file"
      ],
      "metadata": {}
    },
    {
      "cell_type": "code",
      "source": [
        "label = b'ncipfs_is_awesome.txt'\n",
        "m, n = 2, 3"
      ],
      "outputs": [],
      "execution_count": 7,
      "metadata": {
        "collapsed": false,
        "outputHidden": false,
        "inputHidden": false
      }
    },
    {
      "cell_type": "code",
      "source": [
        "policy = client.create_access_policy(\n",
        "    enc_pubkey=enc_pubkey, \n",
        "    sig_pubkey=sig_pubkey, \n",
        "    label=label, \n",
        "    m=m, \n",
        "    n=n   \n",
        ")\n",
        "print(policy)"
      ],
      "outputs": [
        {
          "output_type": "stream",
          "name": "stdout",
          "text": [
            "Creating access policy for the Doctor...\n"
          ]
        }
      ],
      "execution_count": 8,
      "metadata": {
        "collapsed": false,
        "outputHidden": false,
        "inputHidden": false
      }
    },
    {
      "cell_type": "code",
      "source": [
        "doctor = client.load_recipent(enc_privkey, sig_privkey)"
      ],
      "outputs": [],
      "execution_count": 10,
      "metadata": {
        "collapsed": false,
        "outputHidden": false,
        "inputHidden": false
      }
    },
    {
      "cell_type": "code",
      "source": [
        "doctor"
      ],
      "outputs": [
        {
          "output_type": "execute_result",
          "execution_count": 11,
          "data": {
            "text/plain": [
              "(Bob)⇀OliveDrab Swords Chartreuse Queen↽ (0xEec440D0e7ebd35a8002aEd71f4e50eE627aCCA4)"
            ]
          },
          "metadata": {}
        }
      ],
      "execution_count": 11,
      "metadata": {
        "collapsed": false,
        "outputHidden": false,
        "inputHidden": false
      }
    },
    {
      "cell_type": "markdown",
      "source": [
        "# Accessing the Data \n",
        "\nNow we want to fetch, ask for re encryption and then decrypt the data."
      ],
      "metadata": {}
    },
    {
      "cell_type": "code",
      "source": [
        "message = client.get_file_and_decrypt(doctor, policy, cid)"
      ],
      "outputs": [
        {
          "output_type": "stream",
          "name": "stdout",
          "text": [
            "The Doctor joins policy for label 'ncipfs_is_awesome.txt'\n"
          ]
        }
      ],
      "execution_count": 12,
      "metadata": {
        "collapsed": false,
        "outputHidden": false,
        "inputHidden": false
      }
    },
    {
      "cell_type": "code",
      "source": [
        "message"
      ],
      "outputs": [
        {
          "output_type": "execute_result",
          "execution_count": 13,
          "data": {
            "text/plain": [
              "'arbitrary data that is stored on IPFS   Retrieval time:    97.65 ms'"
            ]
          },
          "metadata": {}
        }
      ],
      "execution_count": 13,
      "metadata": {
        "collapsed": false,
        "outputHidden": false,
        "inputHidden": false
      }
    },
    {
      "cell_type": "code",
      "source": [],
      "outputs": [],
      "execution_count": 14,
      "metadata": {
        "collapsed": false,
        "outputHidden": false,
        "inputHidden": false
      }
    }
  ],
  "metadata": {
    "kernel_info": {
      "name": "python3"
    },
    "language_info": {
      "name": "python",
      "version": "3.7.2",
      "mimetype": "text/x-python",
      "codemirror_mode": {
        "name": "ipython",
        "version": 3
      },
      "pygments_lexer": "ipython3",
      "nbconvert_exporter": "python",
      "file_extension": ".py"
    },
    "kernelspec": {
      "name": "python3",
      "language": "python",
      "display_name": "Python 3"
    },
    "nteract": {
      "version": "0.12.3"
    }
  },
  "nbformat": 4,
  "nbformat_minor": 4
}